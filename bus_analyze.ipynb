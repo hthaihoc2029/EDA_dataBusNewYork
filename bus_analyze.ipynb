{
  "nbformat": 4,
  "nbformat_minor": 0,
  "metadata": {
    "colab": {
      "provenance": [],
      "toc_visible": true,
      "include_colab_link": true
    },
    "kernelspec": {
      "name": "python3",
      "display_name": "Python 3"
    },
    "language_info": {
      "name": "python"
    }
  },
  "cells": [
    {
      "cell_type": "markdown",
      "metadata": {
        "id": "view-in-github",
        "colab_type": "text"
      },
      "source": [
        "<a href=\"https://colab.research.google.com/github/hthaihoc2029/EDA_dataBusNewYork/blob/main/bus_analyze.ipynb\" target=\"_parent\"><img src=\"https://colab.research.google.com/assets/colab-badge.svg\" alt=\"Open In Colab\"/></a>"
      ]
    },
    {
      "cell_type": "markdown",
      "source": [
        "# **Import Dataset**\n",
        "\n"
      ],
      "metadata": {
        "id": "veQ_6aGjQGwu"
      }
    },
    {
      "cell_type": "code",
      "execution_count": 3,
      "metadata": {
        "colab": {
          "base_uri": "https://localhost:8080/"
        },
        "id": "4xbSHpDe9ns5",
        "outputId": "651a03a3-b070-4733-da69-97ab52a260bf"
      },
      "outputs": [
        {
          "output_type": "stream",
          "name": "stdout",
          "text": [
            "Mounted at /content/drive\n"
          ]
        }
      ],
      "source": [
        "from google.colab import drive\n",
        "drive.mount('/content/drive')"
      ]
    },
    {
      "cell_type": "code",
      "source": [
        "import pandas as pd\n",
        "\n",
        "# Link to file csv in MyDrive\n",
        "file_path = '/content/drive/MyDrive/Bus_analyse/mta_1706.csv'\n",
        "\n",
        "# Read file csv (dataset) by pandas\n",
        "data = pd.read_csv(file_path, on_bad_lines='skip')\n",
        "\n",
        "# Look through 5 rows of dataset\n",
        "print(data.head())\n"
      ],
      "metadata": {
        "colab": {
          "base_uri": "https://localhost:8080/"
        },
        "id": "2RGM-PTY_3uE",
        "outputId": "00a9ee64-438c-427b-cc4b-c202688d88bf"
      },
      "execution_count": 4,
      "outputs": [
        {
          "output_type": "stream",
          "name": "stdout",
          "text": [
            "        RecordedAtTime  DirectionRef PublishedLineName  \\\n",
            "0  2017-06-01 00:03:34             0                B8   \n",
            "1  2017-06-01 00:03:43             1               S61   \n",
            "2  2017-06-01 00:03:49             0              Bx10   \n",
            "3  2017-06-01 00:03:31             0                Q5   \n",
            "4  2017-06-01 00:03:22             1               Bx1   \n",
            "\n",
            "                  OriginName  OriginLat  OriginLong  \\\n",
            "0                 4 AV/95 ST  40.616104  -74.031143   \n",
            "1  ST GEORGE FERRY/S61 & S91  40.643169  -74.073494   \n",
            "2     E 206 ST/BAINBRIDGE AV  40.875008  -73.880142   \n",
            "3           TEARDROP/LAYOVER  40.701748  -73.802399   \n",
            "4      RIVERDALE AV/W 231 ST  40.881187  -73.909340   \n",
            "\n",
            "                   DestinationName  DestinationLat  DestinationLong  \\\n",
            "0          BROWNSVILLE ROCKAWAY AV       40.656048       -73.907379   \n",
            "1                S I MALL YUKON AV       40.575935       -74.167686   \n",
            "2                 RIVERDALE 263 ST       40.912376       -73.902534   \n",
            "3    ROSEDALE LIRR STA via MERRICK       40.666012       -73.735939   \n",
            "4  MOTT HAVEN 136 ST via CONCOURSE       40.809654       -73.928360   \n",
            "\n",
            "  VehicleRef  VehicleLocation.Latitude  VehicleLocation.Longitude  \\\n",
            "0   NYCT_430                 40.635170                 -73.960803   \n",
            "1  NYCT_8263                 40.590802                 -74.158340   \n",
            "2  NYCT_4223                 40.886010                 -73.912647   \n",
            "3  NYCT_8422                 40.668002                 -73.729348   \n",
            "4  NYCT_4710                 40.868134                 -73.893032   \n",
            "\n",
            "             NextStopPointName ArrivalProximityText  DistanceFromStop  \\\n",
            "0            FOSTER AV/E 18 ST          approaching              76.0   \n",
            "1      MERRYMOUNT ST/TRAVIS AV          approaching              62.0   \n",
            "2  HENRY HUDSON PKY E/W 235 ST              at stop               5.0   \n",
            "3     HOOK CREEK BL/SUNRISE HY        < 1 stop away             267.0   \n",
            "4     GRAND CONCOURSE/E 196 ST              at stop              11.0   \n",
            "\n",
            "   ExpectedArrivalTime ScheduledArrivalTime  \n",
            "0  2017-06-01 00:03:59             24:06:14  \n",
            "1  2017-06-01 00:03:56             23:58:02  \n",
            "2  2017-06-01 00:03:56             24:00:53  \n",
            "3  2017-06-01 00:04:03             24:03:00  \n",
            "4  2017-06-01 00:03:56             23:59:38  \n"
          ]
        }
      ]
    },
    {
      "cell_type": "markdown",
      "source": [
        "# **Understanding the dataset**"
      ],
      "metadata": {
        "id": "KIvX3KSTXTAV"
      }
    },
    {
      "cell_type": "code",
      "source": [
        "def dataoveriew(data, message):\n",
        "    print(f'{message}:\\n')\n",
        "    print('Number of rows: ', data.shape[0])\n",
        "    print(\"\\nNumber of features:\", data.shape[1])\n",
        "    print(\"\\nData Features:\")\n",
        "    print(data.columns.tolist())\n",
        "    print(\"\\nMissing values:\", data.isnull().sum().values.sum())\n",
        "    print(\"\\nUnique values:\")\n",
        "    print(data.nunique())\n",
        "\n",
        "dataoveriew(data, 'Overview of the dataset')"
      ],
      "metadata": {
        "colab": {
          "base_uri": "https://localhost:8080/"
        },
        "id": "7nL5sqr-XjJE",
        "outputId": "23b38fd9-7e56-4450-d277-bbd40bf2f9ba"
      },
      "execution_count": 5,
      "outputs": [
        {
          "output_type": "stream",
          "name": "stdout",
          "text": [
            "Overview of the dataset:\n",
            "\n",
            "Number of rows:  6730436\n",
            "\n",
            "Number of features: 17\n",
            "\n",
            "Data Features:\n",
            "['RecordedAtTime', 'DirectionRef', 'PublishedLineName', 'OriginName', 'OriginLat', 'OriginLong', 'DestinationName', 'DestinationLat', 'DestinationLong', 'VehicleRef', 'VehicleLocation.Latitude', 'VehicleLocation.Longitude', 'NextStopPointName', 'ArrivalProximityText', 'DistanceFromStop', 'ExpectedArrivalTime', 'ScheduledArrivalTime']\n",
            "\n",
            "Missing values: 1275801\n",
            "\n",
            "Unique values:\n",
            "RecordedAtTime               218287\n",
            "DirectionRef                      2\n",
            "PublishedLineName               326\n",
            "OriginName                      606\n",
            "OriginLat                       662\n",
            "OriginLong                      660\n",
            "DestinationName                 778\n",
            "DestinationLat                  530\n",
            "DestinationLong                 531\n",
            "VehicleRef                     5719\n",
            "VehicleLocation.Latitude     360308\n",
            "VehicleLocation.Longitude    426793\n",
            "NextStopPointName             10894\n",
            "ArrivalProximityText            210\n",
            "DistanceFromStop              16378\n",
            "ExpectedArrivalTime          733218\n",
            "ScheduledArrivalTime          93232\n",
            "dtype: int64\n"
          ]
        }
      ]
    },
    {
      "cell_type": "markdown",
      "source": [
        "## Explore Each Column"
      ],
      "metadata": {
        "id": "Hasew34AbNbZ"
      }
    },
    {
      "cell_type": "markdown",
      "source": [
        "### RecordedAtTime"
      ],
      "metadata": {
        "id": "J41kzmIRbTXX"
      }
    },
    {
      "cell_type": "code",
      "source": [
        "import numpy as np\n",
        "smallest_value = data['RecordedAtTime'].min()\n",
        "largest_value = data['RecordedAtTime'].max()\n",
        "\n",
        "print(f\"Smallest value: {smallest_value}\")\n",
        "print(f\"Largest value: {largest_value}\")"
      ],
      "metadata": {
        "colab": {
          "base_uri": "https://localhost:8080/"
        },
        "id": "sFOt4smUbaOb",
        "outputId": "7af44ab5-68b1-4c1a-dfea-87f064580892"
      },
      "execution_count": 11,
      "outputs": [
        {
          "output_type": "stream",
          "name": "stdout",
          "text": [
            "Smallest value: 2017-06-01 00:01:18\n",
            "Largest value: 2017-06-30 23:53:38\n"
          ]
        }
      ]
    },
    {
      "cell_type": "markdown",
      "source": [
        "This is the timestamp of the observation from the vehicle. The month of June, 2017 is covered. Each individual vehicle that is in service at the time is observed approximately every 10 minutes in this dataset."
      ],
      "metadata": {
        "id": "iUFWpMIcdG40"
      }
    },
    {
      "cell_type": "markdown",
      "source": [
        "### DirectionRef\n"
      ],
      "metadata": {
        "id": "xDIjod7ndKuI"
      }
    },
    {
      "cell_type": "code",
      "source": [
        "data['DirectionRef'].value_counts()"
      ],
      "metadata": {
        "colab": {
          "base_uri": "https://localhost:8080/"
        },
        "id": "FXWxUEn2dP5q",
        "outputId": "c359a3dc-cac9-4202-f7be-c248d28556cd"
      },
      "execution_count": 16,
      "outputs": [
        {
          "output_type": "execute_result",
          "data": {
            "text/plain": [
              "1    3384112\n",
              "0    3346324\n",
              "Name: DirectionRef, dtype: int64"
            ]
          },
          "metadata": {},
          "execution_count": 16
        }
      ]
    },
    {
      "cell_type": "markdown",
      "source": [
        "This is either 0 or 1. 0 indicates an outbound route, 1 is inbound."
      ],
      "metadata": {
        "id": "QuzT0Fy8ek6P"
      }
    },
    {
      "cell_type": "markdown",
      "source": [
        "### PublishedLineName"
      ],
      "metadata": {
        "id": "MoPr4vy2exB0"
      }
    },
    {
      "cell_type": "code",
      "source": [],
      "metadata": {
        "id": "zMsbXke3e64p"
      },
      "execution_count": null,
      "outputs": []
    },
    {
      "cell_type": "markdown",
      "source": [
        "### OriginRef"
      ],
      "metadata": {
        "id": "CbwuTGg4e8kG"
      }
    },
    {
      "cell_type": "markdown",
      "source": [
        "### DestinationRef"
      ],
      "metadata": {
        "id": "mu9b40XJfB6z"
      }
    },
    {
      "cell_type": "markdown",
      "source": [
        "### DestinationName"
      ],
      "metadata": {
        "id": "KUY-XziAfFTp"
      }
    },
    {
      "cell_type": "markdown",
      "source": [
        "### VehicleRef"
      ],
      "metadata": {
        "id": "yIJubMBffIVA"
      }
    },
    {
      "cell_type": "markdown",
      "source": [
        "### VehicleLocation.Longitude & VehicleLocation.Latitude"
      ],
      "metadata": {
        "id": "Qdc3SJwCfZVw"
      }
    },
    {
      "cell_type": "markdown",
      "source": [
        "### ExpectedArrivalTime"
      ],
      "metadata": {
        "id": "SrOggGrJfasu"
      }
    },
    {
      "cell_type": "markdown",
      "source": [
        "### StopPointRef\n",
        "\n"
      ],
      "metadata": {
        "id": "0axKXRy1fdte"
      }
    },
    {
      "cell_type": "markdown",
      "source": [
        "### StopPointName"
      ],
      "metadata": {
        "id": "RYdsCa30ftoO"
      }
    },
    {
      "cell_type": "markdown",
      "source": [
        "### ScheduledArrivalTime"
      ],
      "metadata": {
        "id": "oUBpoNkJfzzh"
      }
    },
    {
      "cell_type": "markdown",
      "source": [
        "# **Cleaning the dataset**"
      ],
      "metadata": {
        "id": "-KvhGVBJXbXY"
      }
    }
  ]
}